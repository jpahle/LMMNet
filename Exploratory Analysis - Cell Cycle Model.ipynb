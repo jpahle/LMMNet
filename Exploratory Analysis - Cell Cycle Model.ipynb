{
 "cells": [
  {
   "cell_type": "markdown",
   "metadata": {},
   "source": [
    "# Novak-Tyson Cell Cycle Model (1993)\n",
    "\n",
    "In cell cycle model, we have a multi-dimensional system with more than two species. Here, the system can exhibit both **stable oscillations and bistability**. Compare this with the 2-D Yeast Glycolysis model where we have either a stable fixed point or a stable oscillation.\n",
    "\n",
    "![stable-oscillations](https://www.ncbi.nlm.nih.gov/pmc/articles/instance/1993813/bin/nihms16411f4a.jpg)\n",
    "\n",
    "[Sible & Tyson (2007) Methods 41:238 - 247](https://pubmed.ncbi.nlm.nih.gov/17189866/). Simulations of the mathematical model of the cell cycle in frog egg extracts describe known and previously unobserved behaviors of the control system: Simulation of the changes in cyclin, preMPF and MPF levels over time in a cycling frog egg extract. The simulations are consistent with a body of experimental data.\n",
    "\n",
    "![bistability](https://www.ncbi.nlm.nih.gov/pmc/articles/instance/1993813/bin/nihms16411f5a.jpg)\n",
    "\n",
    "Theoretical predictions from Novak and Tyson: Hysteresis drives mitotic transitions in frog egg extracts. The simulation indicates that the concentration of cyclin required to drive high MPF activity (and thereby enter mitosis) is higher than the concentration required to maintain high MPF activity (and thereby stay in mitosis)."
   ]
  },
  {
   "cell_type": "markdown",
   "metadata": {},
   "source": [
    "## Basics of the cell cycle\n",
    "\n",
    "The species involved are:\n",
    "- Maturation-promoting factor (MPF): a.k.a. mitosis-promoting factor or m-phase promoting factor. This is the activated MPF with one phosphate group removed from cdk1 (relative to pre-MPF).\n",
    "- pre-MPF. Both activated MPF and pre-MPF consists of cdk-1 and cycB (cyclin).\n",
    "- cdk1: cyclin-dependent kinase, also called cdc2\n",
    "- cyclin: is alternately (cyclically) synthesized and degraded over time.\n",
    "- wee1: opposes MPF activation.\n",
    "\n",
    "G2 to M phase transition is driven by increase in MPF. One can regulate Cdk/MPF activity via either:\n",
    "1. synthesis/degradation of cyclin\n",
    "2. Phosphorylation/dephosphorylation of cdk\n",
    "\n",
    "**Activation of MPF** by removing an inhibitory phosphate from the cdk subunit. MPF regulation involves positive feedback:\n",
    "* One of the targets that cdk phosporylates is the protein cdc25, which is a phosphatase. Cdc25 becomes active when it gains a phosphate group.\n",
    "* One of the targets of Cdc25 is pre-MPF.\n",
    "\n",
    "Hence mutual activation: MPF activity increases cdc25 activity and vice versa, can lead to bistability.\n",
    "\n",
    "**Deactivation of MPF** by putting an inhibitory phosphate to the cdk subunit. This occurs through the protein wee1. But MPF inhibits wee1.\n",
    "\n",
    "![mpf-activation](https://media.springernature.com/full/springer-static/image/art%3A10.1038%2Fnrc2169/MediaObjects/41568_2007_Article_BFnrc2169_Fig2_HTML.jpg)\n",
    "\n",
    "[Boutros et al. (2007) Nat Rev Cancer 7, 495-507](https://www.nature.com/articles/nrc2169). a | Cell division cycle 25 (CDC25) phosphatases dephosphorylate and activate cyclin-dependent kinase (CDK)–cyclin complexes, thus allowing catalysis and substrate phosphorylation. WEE1 and MYT1 kinases phosphorylate CDK on tyrosine 15 and threonine 14 of CDK1. Phosphorylation by the CDK-activating kinase (CAK) is required for further activation of CDK–cyclin complexes. For simplicity, an orange P represents T14 and Y15 phosphorylation by WEE1 and MYT1, a blue P represents T161 phosphorylation by CAK. b | Although initial studies suggested a specific role for each CDC25 phosphatase at defined stages of the cell cycle, the current model is that CDC25A, B and C are all involved in phosphorylating CDK–cyclin complexes, such as CDK2–cyclin E at the G1–S transition or CDK1–cyclin B at the entry into mitosis. c | CDC25A, B and C control entry and progression into mitosis. CDC25B is thought to be responsible for the initial activation of CDK1–cyclin B at the centrosome that contributes to microtubule network reorganization and mitotic spindle assembly. Nuclear translocation leads to an auto-amplification process (bold arrows) of CDC25s that then fire the bulk of CDK1–cyclin B complexes and trigger mitosis."
   ]
  },
  {
   "cell_type": "markdown",
   "metadata": {},
   "source": [
    "**MPF triggers cyclin degradation**. when MPF activity increases, it activates (through Anaphase Promoting Complex or APC) cyclin protease which degrades cyclin. Thus, MPF positively regulates MPF destruction through APC.\n",
    "\n",
    "The cell cycle is complex enough; it is almost impossible to make predictions using intuition."
   ]
  },
  {
   "cell_type": "markdown",
   "metadata": {},
   "source": [
    "## Structure of the Novak-Tyson model\n",
    "\n",
    "Main literature: [Novak & Tyson (1993), Journal of Cell Science 106:1153-1168](https://pubmed.ncbi.nlm.nih.gov/8126097/)\n",
    "\n",
    "The model can be divided into two modules:\n",
    "1. Cyclin/Cdk dimer regulation\n",
    "2. Cyclin degradation regulation\n",
    "\n",
    "Some notable parameters:\n",
    "* [PPase] represents generic phosphatase activity"
   ]
  },
  {
   "cell_type": "code",
   "execution_count": null,
   "metadata": {},
   "outputs": [],
   "source": [
    "def f_novak(x,t,params=None):\n",
    "    \"\"\"\n",
    "    ODEs for Novak-Tyson cell cycle model.\n",
    "    There are two main classes of equations:\n",
    "    1. synthesis/degradation of cyclin\n",
    "    2. phosporylation/dephosporylation\n",
    "    \n",
    "    Args:\n",
    "    x -- array of concentrations for the 7 biochemical species\n",
    "    t -- time, ignored\n",
    "    \"\"\"\n",
    "    if params == None:\n",
    "        params = {'k1':, 'k3':,\n",
    "                 'v2_1':, 'v2_2':,\n",
    "                 'ke':, 'Ke':, 'kf':, 'Kf':,\n",
    "                 'wee1_total':, 'PPase':}\n",
    "    \n",
    "    cyclin = x[0]\n",
    "    MPF = x[1]\n",
    "    wee1P = x[4]\n",
    "    APC = x[6]\n",
    "    \n",
    "    CDK = \n",
    "    \n",
    "    # synthesis and degradation of cyclin\n",
    "    # k1 -- synthesis\n",
    "    # k2 -- degradation\n",
    "    # k3 -- dimer formation\n",
    "    d_cyclin = k1 - k3 * cyclin * CDK - k2 * cyclin\n",
    "    \n",
    "    # cyclin is degraded by APC that is off and on -- overall a weighted combination of the two rates\n",
    "    k2 = v2_1 * (APC_total - APC) + v2_2 * APC\n",
    "    \n",
    "    dwee1P = ke*MPF*(wee1_total - wee1P)/(Ke + wee1_total - wee1P) - kf*PPase*wee1P/(Kf + wee1P)"
   ]
  }
 ],
 "metadata": {
  "kernelspec": {
   "display_name": "Python 3",
   "language": "python",
   "name": "python3"
  },
  "language_info": {
   "codemirror_mode": {
    "name": "ipython",
    "version": 3
   },
   "file_extension": ".py",
   "mimetype": "text/x-python",
   "name": "python",
   "nbconvert_exporter": "python",
   "pygments_lexer": "ipython3",
   "version": "3.7.4"
  }
 },
 "nbformat": 4,
 "nbformat_minor": 2
}
