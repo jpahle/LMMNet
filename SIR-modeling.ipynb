{
 "cells": [
  {
   "cell_type": "markdown",
   "metadata": {},
   "source": [
    "# Theory\n",
    "\n",
    "In this notebook, we will model COVID-19 dynamics with the SIR model. It segments the population into three compartments:\n",
    "1. Susceptible: # people vulnerable to exposure with the infectious\n",
    "2. Infectious: # people who can spread the disease\n",
    "3. Recovered: # people who were infected and is now healed with immunity.\n",
    "\n",
    "The SIR model is described by the ODE\n",
    "\n",
    "$$\\begin{split} \\dot{S}  & = - \\beta I S \\\\\n",
    "\\dot{I} & = \\beta I S - \\gamma I \\\\\n",
    "\\dot{R} & = \\gamma I\n",
    "\\end{split}$$\n",
    "\n",
    "Remark: the outstanding period of the disease is assumed to be much shorter than the lifetime of human (hence natural deaths/births are not considered). The two parameters $\\beta$ (how much the disease can be transmitted through exposure) and $\\gamma$ (how much the disease can be recovered) can be used to derive the **average days to recover from the disease** as \n",
    "\n",
    "$$ D = \\frac{1}{\\gamma} $$\n",
    "\n",
    "and the **basic reproduction number** (the average number of people than a sick person can infect)\n",
    "\n",
    "$$ R_0 = \\frac{\\beta}{\\gamma} $$\n",
    "\n",
    "For more details, see https://en.wikipedia.org/wiki/Compartmental_models_in_epidemiology\n",
    "\n",
    "## Controlling a pandemic\n",
    "\n",
    "Naturally, the higher $R_0$ is, the higher number of people with immunity is required to avoid a pandemic. We define the **balanced state** as follows: If the proportion of people with immunity is $p$, the basic reproduction number multiplied by the proportion of people without immunity is one\n",
    "\n",
    "$$ R_0 (1-p) = 1 $$\n",
    "\n",
    "leading to $p_c = 1 - \\frac{1}{R_0}$ as the minimum **Herd Immune Threshold** to stop a pandemic. HIT can be increased, for example, by vaccination.\n",
    "\n",
    "## Visualizations\n",
    "\n",
    "* https://meltingasphalt.com/interactive/outbreak/"
   ]
  },
  {
   "cell_type": "code",
   "execution_count": 1,
   "metadata": {},
   "outputs": [],
   "source": [
    "import pandas as pd\n",
    "import numpy as np\n",
    "from scipy.integrate import odeint\n",
    "import scipy\n",
    "import matplotlib.pyplot as plt"
   ]
  },
  {
   "cell_type": "code",
   "execution_count": 2,
   "metadata": {},
   "outputs": [],
   "source": [
    "def f(x, t, beta, gamma, population):\n",
    "    \"\"\"\n",
    "    The system of ODEs for the SIR model\n",
    "    \n",
    "    Args:\n",
    "    x -- a list consisting of S, I, and R in order\n",
    "    \"\"\"\n",
    "    r1 = -beta * x[0] * x[1] / population\n",
    "    r2 = beta * x[0] * x[1] / population - gamma * x[1]\n",
    "    r3 = gamma * x[1]\n",
    "    return [r1, r2, r3]"
   ]
  },
  {
   "cell_type": "code",
   "execution_count": 4,
   "metadata": {},
   "outputs": [
    {
     "data": {
      "text/html": [
       "<div>\n",
       "<style scoped>\n",
       "    .dataframe tbody tr th:only-of-type {\n",
       "        vertical-align: middle;\n",
       "    }\n",
       "\n",
       "    .dataframe tbody tr th {\n",
       "        vertical-align: top;\n",
       "    }\n",
       "\n",
       "    .dataframe thead th {\n",
       "        text-align: right;\n",
       "    }\n",
       "</style>\n",
       "<table border=\"1\" class=\"dataframe\">\n",
       "  <thead>\n",
       "    <tr style=\"text-align: right;\">\n",
       "      <th></th>\n",
       "      <th>Id</th>\n",
       "      <th>Province_State</th>\n",
       "      <th>Country_Region</th>\n",
       "      <th>Date</th>\n",
       "      <th>ConfirmedCases</th>\n",
       "      <th>Fatalities</th>\n",
       "    </tr>\n",
       "  </thead>\n",
       "  <tbody>\n",
       "    <tr>\n",
       "      <td>0</td>\n",
       "      <td>1</td>\n",
       "      <td>NaN</td>\n",
       "      <td>Afghanistan</td>\n",
       "      <td>2020-01-22</td>\n",
       "      <td>0.0</td>\n",
       "      <td>0.0</td>\n",
       "    </tr>\n",
       "    <tr>\n",
       "      <td>1</td>\n",
       "      <td>2</td>\n",
       "      <td>NaN</td>\n",
       "      <td>Afghanistan</td>\n",
       "      <td>2020-01-23</td>\n",
       "      <td>0.0</td>\n",
       "      <td>0.0</td>\n",
       "    </tr>\n",
       "    <tr>\n",
       "      <td>2</td>\n",
       "      <td>3</td>\n",
       "      <td>NaN</td>\n",
       "      <td>Afghanistan</td>\n",
       "      <td>2020-01-24</td>\n",
       "      <td>0.0</td>\n",
       "      <td>0.0</td>\n",
       "    </tr>\n",
       "    <tr>\n",
       "      <td>3</td>\n",
       "      <td>4</td>\n",
       "      <td>NaN</td>\n",
       "      <td>Afghanistan</td>\n",
       "      <td>2020-01-25</td>\n",
       "      <td>0.0</td>\n",
       "      <td>0.0</td>\n",
       "    </tr>\n",
       "    <tr>\n",
       "      <td>4</td>\n",
       "      <td>5</td>\n",
       "      <td>NaN</td>\n",
       "      <td>Afghanistan</td>\n",
       "      <td>2020-01-26</td>\n",
       "      <td>0.0</td>\n",
       "      <td>0.0</td>\n",
       "    </tr>\n",
       "    <tr>\n",
       "      <td>...</td>\n",
       "      <td>...</td>\n",
       "      <td>...</td>\n",
       "      <td>...</td>\n",
       "      <td>...</td>\n",
       "      <td>...</td>\n",
       "      <td>...</td>\n",
       "    </tr>\n",
       "    <tr>\n",
       "      <td>22333</td>\n",
       "      <td>32704</td>\n",
       "      <td>NaN</td>\n",
       "      <td>Zimbabwe</td>\n",
       "      <td>2020-03-30</td>\n",
       "      <td>7.0</td>\n",
       "      <td>1.0</td>\n",
       "    </tr>\n",
       "    <tr>\n",
       "      <td>22334</td>\n",
       "      <td>32705</td>\n",
       "      <td>NaN</td>\n",
       "      <td>Zimbabwe</td>\n",
       "      <td>2020-03-31</td>\n",
       "      <td>8.0</td>\n",
       "      <td>1.0</td>\n",
       "    </tr>\n",
       "    <tr>\n",
       "      <td>22335</td>\n",
       "      <td>32706</td>\n",
       "      <td>NaN</td>\n",
       "      <td>Zimbabwe</td>\n",
       "      <td>2020-04-01</td>\n",
       "      <td>8.0</td>\n",
       "      <td>1.0</td>\n",
       "    </tr>\n",
       "    <tr>\n",
       "      <td>22336</td>\n",
       "      <td>32707</td>\n",
       "      <td>NaN</td>\n",
       "      <td>Zimbabwe</td>\n",
       "      <td>2020-04-02</td>\n",
       "      <td>9.0</td>\n",
       "      <td>1.0</td>\n",
       "    </tr>\n",
       "    <tr>\n",
       "      <td>22337</td>\n",
       "      <td>32708</td>\n",
       "      <td>NaN</td>\n",
       "      <td>Zimbabwe</td>\n",
       "      <td>2020-04-03</td>\n",
       "      <td>9.0</td>\n",
       "      <td>1.0</td>\n",
       "    </tr>\n",
       "  </tbody>\n",
       "</table>\n",
       "<p>22338 rows × 6 columns</p>\n",
       "</div>"
      ],
      "text/plain": [
       "          Id Province_State Country_Region        Date  ConfirmedCases  \\\n",
       "0          1            NaN    Afghanistan  2020-01-22             0.0   \n",
       "1          2            NaN    Afghanistan  2020-01-23             0.0   \n",
       "2          3            NaN    Afghanistan  2020-01-24             0.0   \n",
       "3          4            NaN    Afghanistan  2020-01-25             0.0   \n",
       "4          5            NaN    Afghanistan  2020-01-26             0.0   \n",
       "...      ...            ...            ...         ...             ...   \n",
       "22333  32704            NaN       Zimbabwe  2020-03-30             7.0   \n",
       "22334  32705            NaN       Zimbabwe  2020-03-31             8.0   \n",
       "22335  32706            NaN       Zimbabwe  2020-04-01             8.0   \n",
       "22336  32707            NaN       Zimbabwe  2020-04-02             9.0   \n",
       "22337  32708            NaN       Zimbabwe  2020-04-03             9.0   \n",
       "\n",
       "       Fatalities  \n",
       "0             0.0  \n",
       "1             0.0  \n",
       "2             0.0  \n",
       "3             0.0  \n",
       "4             0.0  \n",
       "...           ...  \n",
       "22333         1.0  \n",
       "22334         1.0  \n",
       "22335         1.0  \n",
       "22336         1.0  \n",
       "22337         1.0  \n",
       "\n",
       "[22338 rows x 6 columns]"
      ]
     },
     "metadata": {},
     "output_type": "display_data"
    }
   ],
   "source": [
    "# data is from Kaggle COVID-19 Forecasting Challenge\n",
    "# which is curated from John Hopkins CSSE\n",
    "# https://github.com/CSSEGISandData/COVID-19\n",
    "\n",
    "pop_italy = 60486683.\n",
    "pop_spain = 46749696.\n",
    "pop_UK = 67784927.\n",
    "pop_singapore = 5837230.\n",
    "\n",
    "train_data = pd.read_csv(\"data/train.csv\")\n",
    "\n",
    "display(train_data)"
   ]
  },
  {
   "cell_type": "code",
   "execution_count": 9,
   "metadata": {},
   "outputs": [
    {
     "data": {
      "text/plain": [
       "array([2.00000000e+00, 1.63746148e+00, 1.34064006e+00, 1.09762322e+00,\n",
       "       8.98657870e-01, 7.35758815e-01, 6.02388350e-01, 4.93193853e-01,\n",
       "       4.03792962e-01, 3.30597703e-01, 2.70670506e-01, 2.21606266e-01,\n",
       "       1.81435862e-01, 1.48547116e-01, 1.21620090e-01, 9.95741067e-02,\n",
       "       8.15243833e-02, 6.67465191e-02, 5.46474276e-02, 4.47415291e-02,\n",
       "       3.66312656e-02, 2.99911433e-02, 2.45546711e-02, 2.01036648e-02,\n",
       "       1.64594884e-02, 1.34758894e-02, 1.10331251e-02, 9.03315871e-03,\n",
       "       7.39572490e-03, 6.05510737e-03, 4.95750261e-03, 4.05885986e-03,\n",
       "       3.32311335e-03, 2.72073511e-03, 2.22755000e-03, 1.82376357e-03,\n",
       "       1.49317065e-03, 1.22250419e-03, 1.00090148e-03, 8.19468551e-04,\n",
       "       6.70923864e-04, 5.49305845e-04, 4.49733140e-04, 3.68210251e-04,\n",
       "       3.01465040e-04, 2.46818601e-04, 2.02077831e-04, 1.65447314e-04,\n",
       "       1.35456782e-04, 1.10902593e-04, 9.07993055e-05, 7.43396752e-05,\n",
       "       6.08644355e-05, 4.98322094e-05, 4.07999414e-05, 3.34042062e-05,\n",
       "       2.73490684e-05, 2.23915226e-05, 1.83325021e-05, 1.50095728e-05,\n",
       "       1.22888371e-05, 1.00611876e-05, 8.23631013e-06, 6.74278663e-06])"
      ]
     },
     "execution_count": 9,
     "metadata": {},
     "output_type": "execute_result"
    }
   ],
   "source": [
    "# first we prepare the data into a form that is suitable for analysis\n",
    "country = 'Italy'\n",
    "population = pop_italy\n",
    "\n",
    "country_df = train_data.copy()\n",
    "country_df = country_df.loc[country_df['Country_Region']==country]\n",
    "country_df['ConfirmedDiff'] = country_df.ConfirmedCases.diff().fillna(0) # need daily cases instead of cumulative cases\n",
    "\n",
    "first_occurence = country_df.ConfirmedCases.to_numpy().nonzero()[0][0]\n",
    "\n",
    "# now we need the day count since the first occurence\n",
    "country_df = country_df[first_occurence:]\n",
    "country_df['day_count'] = list(range(1,len(country_df)+1))\n",
    "\n",
    "ydata = [i for i in country_df.ConfirmedCases] #infected cases\n",
    "xdata = country_df.day_count\n",
    "ydata = np.array(ydata, dtype=float)\n",
    "xdata = np.array(xdata, dtype=float)\n",
    "\n",
    "# initial conditions\n",
    "# we start with 0 recovered case\n",
    "x0 = [population - ydata[0], ydata[0], 0.]\n",
    "\n",
    "# testing to see if you get it right\n",
    "temp = odeint(f, x0, xdata, args=(0.3, 0.5, population))\n",
    "temp[:,1] # the infected cases\n"
   ]
  },
  {
   "cell_type": "code",
   "execution_count": 10,
   "metadata": {},
   "outputs": [
    {
     "name": "stderr",
     "output_type": "stream",
     "text": [
      "/Users/kevinsiswandi/opt/anaconda3/lib/python3.7/site-packages/ipykernel_launcher.py:8: RuntimeWarning: overflow encountered in double_scalars\n",
      "  \n",
      "/Users/kevinsiswandi/opt/anaconda3/lib/python3.7/site-packages/ipykernel_launcher.py:9: RuntimeWarning: overflow encountered in double_scalars\n",
      "  if __name__ == '__main__':\n",
      "/Users/kevinsiswandi/opt/anaconda3/lib/python3.7/site-packages/ipykernel_launcher.py:10: RuntimeWarning: overflow encountered in double_scalars\n",
      "  # Remove the CWD from sys.path while we load stuff.\n"
     ]
    },
    {
     "data": {
      "text/plain": [
       "array([3.4124434 , 3.20723383])"
      ]
     },
     "execution_count": 10,
     "metadata": {},
     "output_type": "execute_result"
    }
   ],
   "source": [
    "# fit the parameters beta and gamma from data\n",
    "# using least squares fit\n",
    "p_opt, p_cov = scipy.optimize.curve_fit(lambda t, beta, gamma: odeint(f, x0, t, args=(beta, gamma,population))[:,1], xdata, ydata)\n",
    "p_opt"
   ]
  },
  {
   "cell_type": "code",
   "execution_count": 11,
   "metadata": {},
   "outputs": [
    {
     "data": {
      "image/png": "[encoded data removed]",
      "text/plain": [
       "<Figure size 432x288 with 1 Axes>"
      ]
     },
     "metadata": {
      "needs_background": "light"
     },
     "output_type": "display_data"
    },
    {
     "name": "stdout",
     "output_type": "stream",
     "text": [
      "Fitted parameters: beta = 3.4124434020529657  and gamma =  3.2072338281630586\n"
     ]
    }
   ],
   "source": [
    "pred_data = odeint(f, x0, xdata, args=(p_opt[0], p_opt[1],population))[:,1]\n",
    "\n",
    "plt.plot(xdata, ydata, 'o')\n",
    "plt.plot(xdata, pred_data)\n",
    "plt.title(\"SIR model predictions for the infected cases in \" + country)\n",
    "plt.ylabel(\"Population infected\")\n",
    "plt.xlabel(\"Days since first case\")\n",
    "plt.show()\n",
    "print(\"Fitted parameters: beta =\", p_opt[0], \" and gamma = \", p_opt[1])"
   ]
  },
  {
   "cell_type": "code",
   "execution_count": 12,
   "metadata": {},
   "outputs": [
    {
     "name": "stdout",
     "output_type": "stream",
     "text": [
      "Average day to recover from disease in  Italy  is  0.3117951647986793\n",
      "Basic reproduction number in  Italy  is  1.0639833529092704\n"
     ]
    }
   ],
   "source": [
    "print(\"Average day to recover from disease in \", country, \" is \", 1/p_opt[1])\n",
    "print(\"Basic reproduction number in \", country, \" is \", p_opt[0]/p_opt[1])"
   ]
  },
  {
   "cell_type": "code",
   "execution_count": null,
   "metadata": {},
   "outputs": [],
   "source": []
  }
 ],
 "metadata": {
  "kernelspec": {
   "display_name": "Python 3",
   "language": "python",
   "name": "python3"
  },
  "language_info": {
   "codemirror_mode": {
    "name": "ipython",
    "version": 3
   },
   "file_extension": ".py",
   "mimetype": "text/x-python",
   "name": "python",
   "nbconvert_exporter": "python",
   "pygments_lexer": "ipython3",
   "version": "3.7.4"
  }
 },
 "nbformat": 4,
 "nbformat_minor": 2
}
