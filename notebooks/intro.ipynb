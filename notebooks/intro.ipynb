{
 "cells": [
  {
   "cell_type": "markdown",
   "metadata": {},
   "source": [
    "# Dynamical Systems\n",
    "\n",
    "Typically the dynamics is described by some nonlinear ODE:\n",
    "\n",
    "$$ \\dot{x}(t) = f(x(t)) $$\n",
    "\n",
    "Bottom-up modeling example:\n",
    "\n",
    "$$\\begin{split} \\dot{x_1} & = 2 k_1 x_1 x_2 -  \\frac{k_p x_1}{x_1 + K_m} \\\\\n",
    "\\dot{x_2} & = V_{in} - k_1 x_2 x_1\n",
    "\\end{split}$$\n",
    "\n",
    "2-D Model of Yeast Glycolysis from *Bier, Bakker, & Westerhoff (Biophys. J. 78:1087-1093, 2000)*.\n",
    "\n",
    "$$ x(t) = x(t_0) + \\int_{t_0}^{t} f(x(t')) \\,d{t'} $$ \n",
    "\n",
    "Data-driven modeling: given\n",
    "\n",
    "$$\\{x(t_n)\\},$$\n",
    "\n",
    "create pairs of training data\n",
    "\n",
    "$$\\dot{x}(t_i), x(t_i)$$\n",
    "\n",
    "as pairs of target-features, for every time point $i = 1,.., n$. This gives us a supervised learning problem:\n",
    "\n",
    "$$ f = \\min_\\theta \\sum_{i=0}^n || f(x_i) - \\dot{x_i}||^2 $$\n",
    "\n",
    "*Kevin Siswandi*, 16 April 2020."
   ]
  },
  {
   "cell_type": "code",
   "execution_count": null,
   "metadata": {},
   "outputs": [],
   "source": []
  }
 ],
 "metadata": {
  "kernelspec": {
   "display_name": "Python 3",
   "language": "python",
   "name": "python3"
  },
  "language_info": {
   "codemirror_mode": {
    "name": "ipython",
    "version": 3
   },
   "file_extension": ".py",
   "mimetype": "text/x-python",
   "name": "python",
   "nbconvert_exporter": "python",
   "pygments_lexer": "ipython3",
   "version": "3.7.4"
  }
 },
 "nbformat": 4,
 "nbformat_minor": 2
}
