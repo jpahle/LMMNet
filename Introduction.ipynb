{
 "cells": [
  {
   "cell_type": "markdown",
   "metadata": {},
   "source": [
    "# Empirical Dynamic Modeling via Machine Learning\n",
    "\n",
    "Typically the dynamics is described by some nonlinear ODE:\n",
    "\n",
    "$$ \\dot{x}(t) = f(x(t)) $$\n",
    "\n",
    "As an example of bottom-up modeling, consider the 2-D Model of Yeast Glycolysis from *Bier, Bakker, & Westerhoff (Biophys. J. 78:1087-1093, 2000)*:\n",
    "\n",
    "$$\\begin{split} \\dot{x_1} & = 2 k_1 x_1 x_2 -  \\frac{k_p x_1}{x_1 + K_m} \\\\\n",
    "\\dot{x_2} & = V_{in} - k_1 x_2 x_1\n",
    "\\end{split}$$\n",
    "\n",
    "This ODE can be solved through numerical integration:\n",
    "\n",
    "$$ x(t) = x(t_0) + \\int_{t_0}^{t} f(x(t')) \\,d{t'} $$ \n",
    "\n",
    "Now, in data-driven modeling, we are given time-series measurements:\n",
    "\n",
    "$$\\{x(t_n)\\},$$\n",
    "\n",
    "from which we create data for training\n",
    "\n",
    "$$\\dot{x}(t_i), x(t_i)$$\n",
    "\n",
    "as pairs of target-features, for every time point $i = 1,.., n$. This gives us a supervised learning problem:\n",
    "\n",
    "$$ \\arg \\min_f \\sum_{i=0}^n || f(x(t_i)) - \\dot{x}(t_i)||^2 $$\n",
    "\n",
    "that is solved to find the function $f$ that best describes the data through a machine learning method."
   ]
  },
  {
   "cell_type": "markdown",
   "metadata": {},
   "source": [
    "# General Direction\n",
    "\n",
    "Performance metric:\n",
    "1. Wasserstein Distance\n",
    "2. Dynamic Time Warping\n",
    "3. Kullback-Leibler Divergence\n",
    "\n",
    "Wasserstein Distance takes into account the metric space!\n",
    "\n",
    "![](https://i.stack.imgur.com/7rxeM.png)"
   ]
  },
  {
   "cell_type": "markdown",
   "metadata": {},
   "source": [
    "# Executive Summary\n",
    "\n",
    "1. One-step learning method $\\rightarrow$ learn dynamics by computing derivatives from time-series data, then solve the optimization problem through machine learning methods. (No assumption of governing equations).\n",
    "$$ \\dot{x} = f(x, u) $$\n",
    "2. LmmNet $\\rightarrow$ learn dynamics by embedding a supervised learning problem inside a linear multistep method. This method assumes highly idealized setting where the data points are sampled at regular intervals. This issue can be overcome by using a 'data augmentation' strategy.\n",
    "\n",
    "We evaluate the one-step method and the LmmNet extensively on canonical systems and also complex biochemical problems.\n",
    "\n",
    "## Harmonic Oscillator\n",
    "\n",
    "* 2-D Linear Oscillator\n",
    "* We evaluate the performance of both methods on test data of the harmonic oscillator with cubic dynamics.\n",
    "* With increasing augmentation, we get better performance.\n",
    "\n",
    "## Linear Oscillator\n",
    "\n",
    "* 3-D Linear Oscillator\n",
    "* Evaluate the performance\n",
    "* DTW, Wasserstein, MSE\n",
    "* With increasing augmentation, we get better performance.\n",
    "\n",
    "## Lorenz System\n",
    "\n",
    "* We show that our methods accurately identify the attractor dynamics.\n",
    "* 3-dimensional\n",
    "\n",
    "## Hopf Bifurcation\n",
    "\n",
    "* We show that our methods can identify bifurcation\n",
    "* 3-dimensional\n",
    "\n",
    "## 2-D Glycolysis\n",
    "\n",
    "* We show that by training on two time-series, we can have 'very good' predictions on the test data.\n",
    "* 2-D\n",
    "\n",
    "## Cell Cycle\n",
    "\n",
    "* The performance (accuracy) of both LmmNet and one-step learning improves with more data\n",
    "* We also find that the methods are able to identify the dynamics of the 7 biochemical species.\n",
    "* Simulate the results from Tyson and experiments from Solomon. (the S-shaped) MPF-cyclin curve.\n",
    "* 1993\n",
    "\n",
    "## Metabolic Pathway in E. Coli\n",
    "\n",
    "* We do this using LmmNet (first test of LmmNet on real data)\n",
    "* Extracting mechanistic insights using post-hoc explainability"
   ]
  },
  {
   "cell_type": "code",
   "execution_count": null,
   "metadata": {},
   "outputs": [],
   "source": []
  }
 ],
 "metadata": {
  "kernelspec": {
   "display_name": "Python 3",
   "language": "python",
   "name": "python3"
  },
  "language_info": {
   "codemirror_mode": {
    "name": "ipython",
    "version": 3
   },
   "file_extension": ".py",
   "mimetype": "text/x-python",
   "name": "python",
   "nbconvert_exporter": "python",
   "pygments_lexer": "ipython3",
   "version": "3.7.4"
  }
 },
 "nbformat": 4,
 "nbformat_minor": 2
}
