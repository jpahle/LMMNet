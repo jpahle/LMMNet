{
 "cells": [
  {
   "cell_type": "code",
   "execution_count": 1,
   "metadata": {},
   "outputs": [],
   "source": [
    "import sys\n",
    "sys.path.append(\"./source\")\n",
    "\n",
    "import pandas as pd\n",
    "import NovakTyson\n",
    "import numpy as np\n",
    "import seaborn as sns\n",
    "import matplotlib.pyplot as plt\n",
    "import train_onestep\n",
    "import predict_onestep\n",
    "from sklearn.ensemble import RandomForestRegressor\n",
    "from scipy.integrate import odeint\n",
    "import train_lmmNet\n",
    "import predict_lmmNet\n",
    "import tensorflow as tf\n",
    "import scicomp"
   ]
  },
  {
   "cell_type": "code",
   "execution_count": 2,
   "metadata": {},
   "outputs": [
    {
     "name": "stdout",
     "output_type": "stream",
     "text": [
      "(100, 536, 7)\n"
     ]
    }
   ],
   "source": [
    "N = 100\n",
    "h = 2.8\n",
    "\n",
    "# cyclin synthesis and degradation are inhibited\n",
    "time_points, novak_data = NovakTyson.simulate_custom(step_size=h, tlast=1500)\n",
    "data_numpy = np.zeros((N, novak_data.shape[1], novak_data.shape[2]))\n",
    "\n",
    "cyclin_list = np.random.uniform(0, 10, N)\n",
    "for i in range(N):\n",
    "    # cyclin synthesis and degradation are inhibited\n",
    "    _, data_numpy[i, :, :] = NovakTyson.simulate_custom(cyclin = cyclin_list[i], MPF=14, tlast=1500, k1=0, v2_1=0, v2_2=0, cdc25_total=5, step_size=h)\n",
    "    \n",
    "# replace all values that are numerically zero\n",
    "data_numpy = np.where(data_numpy < 1e-4, 0, data_numpy)\n",
    "print(data_numpy.shape)"
   ]
  },
  {
   "cell_type": "code",
   "execution_count": 3,
   "metadata": {},
   "outputs": [
    {
     "data": {
      "text/plain": [
       "[<matplotlib.lines.Line2D at 0x7fe52c597d90>]"
      ]
     },
     "execution_count": 3,
     "metadata": {},
     "output_type": "execute_result"
    },
    {
     "data": {
      "image/png": "[encoded data removed]",
      "text/plain": [
       "<Figure size 432x288 with 1 Axes>"
      ]
     },
     "metadata": {
      "needs_background": "light"
     },
     "output_type": "display_data"
    }
   ],
   "source": [
    "# plot the bifurcation diagram from data\n",
    "\n",
    "mpf_high = [data_numpy[i][-1][1] for i in range(N)]\n",
    "plt.plot(cyclin_list, mpf_high, 'x')"
   ]
  },
  {
   "cell_type": "code",
   "execution_count": 4,
   "metadata": {},
   "outputs": [],
   "source": [
    "# select training and test\n",
    "train_high = tf.convert_to_tensor(data_numpy[1:,:,:], dtype=tf.float32)\n",
    "test_high = tf.convert_to_tensor(data_numpy[0,:,:], dtype=tf.float32)\n",
    "\n",
    "model_high = train_lmmNet.train_easy(time_points, train_high)"
   ]
  },
  {
   "cell_type": "code",
   "execution_count": null,
   "metadata": {},
   "outputs": [],
   "source": [
    "# use these simulations to generate the bifurcation diagram\n",
    "N = 50\n",
    "simulated_high = np.zeros((N, test_high.shape[0], test_high.shape[1]))\n",
    "init = test_high[0,:].numpy()\n",
    "cyclin_high = np.random.uniform(0, 10, N)\n",
    "for i in range(cyclin_high.shape[0]):\n",
    "    init_copy = init\n",
    "    init_copy[0] = cyclin_high[i]\n",
    "    predicted_test = odeint(lambda x, t: predict_lmmNet.predict_fn(x, t, model_high), init_copy, time_points)\n",
    "    simulated_high[i,:,:] = predicted_test"
   ]
  },
  {
   "cell_type": "code",
   "execution_count": null,
   "metadata": {},
   "outputs": [],
   "source": []
  }
 ],
 "metadata": {
  "kernelspec": {
   "display_name": "Python 3",
   "language": "python",
   "name": "python3"
  },
  "language_info": {
   "codemirror_mode": {
    "name": "ipython",
    "version": 3
   },
   "file_extension": ".py",
   "mimetype": "text/x-python",
   "name": "python",
   "nbconvert_exporter": "python",
   "pygments_lexer": "ipython3",
   "version": "3.7.4"
  }
 },
 "nbformat": 4,
 "nbformat_minor": 2
}
