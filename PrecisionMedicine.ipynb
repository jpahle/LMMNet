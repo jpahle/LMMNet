{
 "cells": [
  {
   "cell_type": "markdown",
   "metadata": {},
   "source": [
    "# Enabling P4 Medicine with Systems Biology\n",
    "\n",
    "Systems biology offers a holistic approach to deciphering physiology or disease by deriving and integrating biological information to delineate relevant networks and their dynamics. It enables medicine that is predictive, preventive, personalized, and participatory, with a focus on the two primary domains of health care—wellness and disease—using “deep phenotyping” to decipher the complexities of human health. This approach is defined by the longitudinal aggregation of high-throughput information on individuals, including digital health data; clinical laboratory tests; omics data that are based on the genome, proteome, metabolome, microbiome, and exposome; and the deployment of mathematical and statistical models for interrogation of biological networks. The integration of these data enables\n",
    "1. the identification of actionable possibilities to improve individual health,\n",
    "2. personalized diagnostics to identify the earliest transitions from wellness to disease, and\n",
    "3. the ability to reverse pathophysiological changes before disease manifests using system-driven preventive measures.\n",
    "\n",
    "This strategy, including deep phenotyping of individuals coupled with data-informed actions to improve health and avoid or mitigate disease trajectories, is defined as “scientific wellness”. From *Science Translational Medicine* https://stm.sciencemag.org/content/12/527/eaay1059"
   ]
  },
  {
   "cell_type": "markdown",
   "metadata": {},
   "source": [
    "Articles:\n",
    "* https://www.nature.com/articles/nbt.3870. P100 Welness study. Data access from https://www.ncbi.nlm.nih.gov/projects/gap/cgi-bin/study.cgi?study_id=phs001363.v1.p1\n",
    "* [Data of clinical biomarkers from 83 adults](https://mhealth.jmir.org/2020/1/e16409/). Article studies the correlation between Fitbit metrics and changes in biomarkers\n",
    "* [Longitudinal Big Data Approach for Precision Health](https://www.nature.com/articles/s41591-019-0414-6)\n",
    "* [Integrative Personal Omics Profiles during Periods of Weight Gain and Loss](https://www.sciencedirect.com/science/article/pii/S2405471217305550)\n",
    "* [Inverse Data-Driven Modeling and Multiomics Analysis Reveals Phgdh as a Metabolic Checkpoint of Macrophage Polarization and Proliferation](https://www.sciencedirect.com/science/article/pii/S2211124720300206)\n",
    "\n",
    "Datasets:\n",
    "* Raw omics data from [NIH Human Microbiome 2](https://www.hmpdacc.org/)"
   ]
  },
  {
   "cell_type": "code",
   "execution_count": null,
   "metadata": {},
   "outputs": [],
   "source": []
  }
 ],
 "metadata": {
  "kernelspec": {
   "display_name": "Python 3",
   "language": "python",
   "name": "python3"
  },
  "language_info": {
   "codemirror_mode": {
    "name": "ipython",
    "version": 3
   },
   "file_extension": ".py",
   "mimetype": "text/x-python",
   "name": "python",
   "nbconvert_exporter": "python",
   "pygments_lexer": "ipython3",
   "version": "3.7.4"
  }
 },
 "nbformat": 4,
 "nbformat_minor": 2
}
