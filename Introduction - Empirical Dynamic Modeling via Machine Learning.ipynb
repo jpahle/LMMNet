{
 "cells": [
  {
   "cell_type": "markdown",
   "metadata": {},
   "source": [
    "# Dynamical Systems\n",
    "\n",
    "Typically the dynamics is described by some nonlinear ODE:\n",
    "\n",
    "$$ \\dot{x}(t) = f(x(t)) $$\n",
    "\n",
    "Bottom-up modeling example:\n",
    "\n",
    "$$\\begin{split} \\dot{x_1} & = 2 k_1 x_1 x_2 -  \\frac{k_p x_1}{x_1 + K_m} \\\\\n",
    "\\dot{x_2} & = V_{in} - k_1 x_2 x_1\n",
    "\\end{split}$$\n",
    "\n",
    "2-D Model of Yeast Glycolysis from *Bier, Bakker, & Westerhoff (Biophys. J. 78:1087-1093, 2000)*.\n",
    "\n",
    "$$ x(t) = x(t_0) + \\int_{t_0}^{t} f(x(t')) \\,d{t'} $$ \n",
    "\n",
    "Data-driven modeling: given time-series measurements\n",
    "\n",
    "$$\\{x(t_n)\\},$$\n",
    "\n",
    "create pairs of training data\n",
    "\n",
    "$$\\dot{x}(t_i), x(t_i)$$\n",
    "\n",
    "as pairs of target-features, for every time point $i = 1,.., n$. This gives us a supervised learning problem:\n",
    "\n",
    "$$ \\arg \\min_f \\sum_{i=0}^n || f(x(t_i)) - \\dot{x}(t_i)||^2 $$\n",
    "\n",
    "to find the function f that best describes the data through a machine learning method.\n",
    "\n",
    "*Kevin Siswandi*, 29 June 2020."
   ]
  },
  {
   "cell_type": "markdown",
   "metadata": {},
   "source": [
    "# General Direction\n",
    "\n",
    "Traditional Supervised Learning problem:\n",
    "$$ f: X \\rightarrow Y$$\n",
    "X are the features, Y are the targets. In our case, we learn $f'$ instead. Two approaches:\n",
    "1. Manually compute derivatives from time-series data.\n",
    "2. Embed the supervised learning problem in the framework of multistep method.\n",
    "\n",
    "Advantage of the latter approach is that we do not need to artifically calculate derivatives. So far, we have:\n",
    "1. Checked the correctness of our implementation in test problems -- Harmonic Oscillator, Hopf (Normal Form) Bifurcation, Lorenz Attractor, etc.\n",
    "2. Applied this method to investigate the 2-D Yeast Glycolytic Oscillator -- studied the damped oscillation regime, oscillatory regime, identified bifurcation using ML simulations, investigated the behaviour of ML predictions with different parameters (ongoing).\n",
    "3. Uncertainty Quantification\n",
    "4. Explaination of predictions of the model (based on what the model has learnt from data)\n",
    "5. Gain insights from ML simulations -- cell-cycle model\n",
    "\n",
    "Reference:\n",
    "* https://www.nature.com/articles/s41540-020-0126-z\n",
    "* https://www.ncbi.nlm.nih.gov/pmc/articles/PMC1993813/"
   ]
  },
  {
   "cell_type": "markdown",
   "metadata": {},
   "source": [
    "# Predicting Pathway Dynamics using Machine Learning\n",
    "\n",
    "In the first half of the project, we use experimental data from proteomics and metabolomics to predict the metabolic pathway dynamics of either limonene or isopentenol produced by Escherichia Coli strains. In bioengineering, we often want to predict the cell behavior that results from the engineered changes in DNA. This is made possible thanks to the recent technological advances:\n",
    "1. new synthetic biology capabilities, such as the gene-editing tool CRISPR-Cas9,\n",
    "2. Availability of proteomics and metabolomics data\n",
    "\n",
    "Turning these data into actionable insights is not trivial. While stoichiometric models ignore enzyme kinetics and cannot accurately capture the dynamics, kinetic models also have limitations:\n",
    "* the kinetic parameters are estimated from in-vitro measurements which may not be valid in in-vivo conditions/experiments\n",
    "* knowledge of the kinetic rate law for each specific reaction is required.\n",
    "\n",
    "On the other hand, an ML approach could be automatically applied to any new pathway, improve in accuracy with more training data, and help in capturing complex dynamic relationships that are otherwise unknown. It also enables faster development of predictive pathway dynamics since all required knowledge is inferred from the experimental data.\n",
    "\n",
    "![title](image/machine-learning.jpg)\n",
    "\n",
    "The first step is to join the metabolites and protein tables, while creating the training data set consisting of:\n",
    "* smoothed features (using [Savitzky-Golay](https://scipy-cookbook.readthedocs.io/items/SavitzkyGolay.html) low-pass filter)\n",
    "* targets obtained by taking the derivative of the interpolated (smoothed) measurements\n",
    "\n",
    "Here we will use TPOT to automate the ML pipeline: https://github.com/EpistasisLab/tpot. Cross-validation with learning curve is used to compare pipelines. For an interpretation of the learning curve, see: https://scikit-learn.org/stable/modules/learning_curve.html#learning-curve\n",
    "\n",
    "## Applications\n",
    "\n",
    "Remarks: Limonene is a bio-based jet fuel while isopentenol is a gasoline replacement.\n",
    "\n",
    "* Accelerate the design of microbes/pathways that produce biofuel\n",
    "* Provide a new way to guide bioengineering efforts\n",
    "\n",
    "References:\n",
    "* Main paper: [Costello & Martin, Nature 2018](https://www.nature.com/articles/s41540-018-0054-3)\n",
    "* Dataset: https://doi.org/10.1016/j.cels.2016.04.004"
   ]
  },
  {
   "cell_type": "code",
   "execution_count": null,
   "metadata": {},
   "outputs": [],
   "source": []
  }
 ],
 "metadata": {
  "kernelspec": {
   "display_name": "Python 3",
   "language": "python",
   "name": "python3"
  },
  "language_info": {
   "codemirror_mode": {
    "name": "ipython",
    "version": 3
   },
   "file_extension": ".py",
   "mimetype": "text/x-python",
   "name": "python",
   "nbconvert_exporter": "python",
   "pygments_lexer": "ipython3",
   "version": "3.7.4"
  }
 },
 "nbformat": 4,
 "nbformat_minor": 2
}
