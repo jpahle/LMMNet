{
 "cells": [
  {
   "cell_type": "markdown",
   "metadata": {},
   "source": [
    "# Dynamical Systems\n",
    "\n",
    "Typically the dynamics is described by some nonlinear ODE:\n",
    "\n",
    "$$ \\dot{x}(t) = f(x(t)) $$\n",
    "\n",
    "Bottom-up modeling example:\n",
    "\n",
    "$$\\begin{split} \\dot{x_1} & = 2 k_1 x_1 x_2 -  \\frac{k_p x_1}{x_1 + K_m} \\\\\n",
    "\\dot{x_2} & = V_{in} - k_1 x_2 x_1\n",
    "\\end{split}$$\n",
    "\n",
    "2-D Model of Yeast Glycolysis from *Bier, Bakker, & Westerhoff (Biophys. J. 78:1087-1093, 2000)*.\n",
    "\n",
    "$$ x(t) = x(t_0) + \\int_{t_0}^{t} f(x(t')) \\,d{t'} $$ \n",
    "\n",
    "Data-driven modeling: given time-series measurements\n",
    "\n",
    "$$\\{x(t_n)\\},$$\n",
    "\n",
    "create pairs of training data\n",
    "\n",
    "$$\\dot{x}(t_i), x(t_i)$$\n",
    "\n",
    "as pairs of target-features, for every time point $i = 1,.., n$. This gives us a supervised learning problem:\n",
    "\n",
    "$$ \\arg \\min_f \\sum_{i=0}^n || f(x(t_i)) - \\dot{x}(t_i)||^2 $$\n",
    "\n",
    "to find the function f that best describes the data through a machine learning method.\n",
    "\n",
    "*Kevin Siswandi*, 29 June 2020."
   ]
  },
  {
   "cell_type": "markdown",
   "metadata": {},
   "source": [
    "# General Direction\n",
    "\n",
    "Traditional Supervised Learning problem:\n",
    "$$ f: X \\rightarrow Y$$\n",
    "X are the features, Y are the targets. In our case, we learn $f'$ instead. Two approaches:\n",
    "1. Manually compute derivatives from time-series data.\n",
    "2. Embed the supervised learning problem in the framework of multistep method.\n",
    "\n",
    "Advantage of the latter approach is that we do not need to artifically calculate derivatives. So far, we have:\n",
    "1. Checked the correctness of our implementation in test problems -- Harmonic Oscillator, Hopf (Normal Form) Bifurcation, Lorenz Attractor, etc.\n",
    "2. Applied this method to investigate the 2-D Yeast Glycolytic Oscillator -- studied the damped oscillation regime, oscillatory regime, identified bifurcation using ML simulations, investigated the behaviour of ML predictions with different parameters (ongoing).\n",
    "3. Uncertainty Quantification\n",
    "4. Explaination of predictions of the model (based on what the model has learnt from data)\n",
    "5. Gain insights from ML simulations -- cell-cycle model\n",
    "\n",
    "Reference:\n",
    "* https://www.nature.com/articles/s41540-020-0126-z\n",
    "* https://www.ncbi.nlm.nih.gov/pmc/articles/PMC1993813/"
   ]
  },
  {
   "cell_type": "code",
   "execution_count": null,
   "metadata": {},
   "outputs": [],
   "source": []
  }
 ],
 "metadata": {
  "kernelspec": {
   "display_name": "Python 3",
   "language": "python",
   "name": "python3"
  },
  "language_info": {
   "codemirror_mode": {
    "name": "ipython",
    "version": 3
   },
   "file_extension": ".py",
   "mimetype": "text/x-python",
   "name": "python",
   "nbconvert_exporter": "python",
   "pygments_lexer": "ipython3",
   "version": "3.7.4"
  }
 },
 "nbformat": 4,
 "nbformat_minor": 2
}
